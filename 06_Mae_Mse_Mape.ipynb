{
 "cells": [
  {
   "cell_type": "code",
   "execution_count": 1,
   "id": "0066f322-ba46-4db3-9e5d-115c3af1c47a",
   "metadata": {},
   "outputs": [],
   "source": [
    "#min square error mse"
   ]
  },
  {
   "cell_type": "code",
   "execution_count": 3,
   "id": "c4ab7852-617b-4f82-a42a-89bddd39fa29",
   "metadata": {},
   "outputs": [],
   "source": [
    "#kok lu hali rmse"
   ]
  },
  {
   "cell_type": "code",
   "execution_count": 5,
   "id": "b8822acc-970b-49f6-a405-fd824fa680ba",
   "metadata": {},
   "outputs": [],
   "source": [
    "#min abstract error  mae"
   ]
  },
  {
   "cell_type": "code",
   "execution_count": 7,
   "id": "4d774aeb-ee04-4a40-8fcd-e4277108f810",
   "metadata": {},
   "outputs": [],
   "source": [
    "#mape mutlak deger yuzdesi mape"
   ]
  },
  {
   "cell_type": "code",
   "execution_count": 13,
   "id": "5cbbdaf0-4162-4f50-9740-6a0cdff43d29",
   "metadata": {},
   "outputs": [],
   "source": [
    "import pandas as pd "
   ]
  },
  {
   "cell_type": "code",
   "execution_count": 15,
   "id": "d2557ad2-a24e-426f-ba04-0683db24725b",
   "metadata": {},
   "outputs": [],
   "source": [
    "import numpy as np"
   ]
  },
  {
   "cell_type": "code",
   "execution_count": 21,
   "id": "e52d71b4-4590-450e-8da0-eb32ec567881",
   "metadata": {},
   "outputs": [],
   "source": [
    "from sklearn.linear_model import LinearRegression"
   ]
  },
  {
   "cell_type": "code",
   "execution_count": 25,
   "id": "8925ae41-708a-4411-a0d7-3ef87eaf7391",
   "metadata": {},
   "outputs": [],
   "source": [
    "df = pd.read_csv('insurance.csv')"
   ]
  },
  {
   "cell_type": "code",
   "execution_count": 27,
   "id": "391eba59-1f69-415a-9fdf-b79c530d1158",
   "metadata": {},
   "outputs": [
    {
     "data": {
      "text/html": [
       "<div>\n",
       "<style scoped>\n",
       "    .dataframe tbody tr th:only-of-type {\n",
       "        vertical-align: middle;\n",
       "    }\n",
       "\n",
       "    .dataframe tbody tr th {\n",
       "        vertical-align: top;\n",
       "    }\n",
       "\n",
       "    .dataframe thead th {\n",
       "        text-align: right;\n",
       "    }\n",
       "</style>\n",
       "<table border=\"1\" class=\"dataframe\">\n",
       "  <thead>\n",
       "    <tr style=\"text-align: right;\">\n",
       "      <th></th>\n",
       "      <th>age</th>\n",
       "      <th>sex</th>\n",
       "      <th>bmi</th>\n",
       "      <th>children</th>\n",
       "      <th>smoker</th>\n",
       "      <th>region</th>\n",
       "      <th>charges</th>\n",
       "    </tr>\n",
       "  </thead>\n",
       "  <tbody>\n",
       "    <tr>\n",
       "      <th>0</th>\n",
       "      <td>19</td>\n",
       "      <td>female</td>\n",
       "      <td>27.900</td>\n",
       "      <td>0</td>\n",
       "      <td>yes</td>\n",
       "      <td>southwest</td>\n",
       "      <td>16884.92400</td>\n",
       "    </tr>\n",
       "    <tr>\n",
       "      <th>1</th>\n",
       "      <td>18</td>\n",
       "      <td>male</td>\n",
       "      <td>33.770</td>\n",
       "      <td>1</td>\n",
       "      <td>no</td>\n",
       "      <td>southeast</td>\n",
       "      <td>1725.55230</td>\n",
       "    </tr>\n",
       "    <tr>\n",
       "      <th>2</th>\n",
       "      <td>28</td>\n",
       "      <td>male</td>\n",
       "      <td>33.000</td>\n",
       "      <td>3</td>\n",
       "      <td>no</td>\n",
       "      <td>southeast</td>\n",
       "      <td>4449.46200</td>\n",
       "    </tr>\n",
       "    <tr>\n",
       "      <th>3</th>\n",
       "      <td>33</td>\n",
       "      <td>male</td>\n",
       "      <td>22.705</td>\n",
       "      <td>0</td>\n",
       "      <td>no</td>\n",
       "      <td>northwest</td>\n",
       "      <td>21984.47061</td>\n",
       "    </tr>\n",
       "    <tr>\n",
       "      <th>4</th>\n",
       "      <td>32</td>\n",
       "      <td>male</td>\n",
       "      <td>28.880</td>\n",
       "      <td>0</td>\n",
       "      <td>no</td>\n",
       "      <td>northwest</td>\n",
       "      <td>3866.85520</td>\n",
       "    </tr>\n",
       "  </tbody>\n",
       "</table>\n",
       "</div>"
      ],
      "text/plain": [
       "   age     sex     bmi  children smoker     region      charges\n",
       "0   19  female  27.900         0    yes  southwest  16884.92400\n",
       "1   18    male  33.770         1     no  southeast   1725.55230\n",
       "2   28    male  33.000         3     no  southeast   4449.46200\n",
       "3   33    male  22.705         0     no  northwest  21984.47061\n",
       "4   32    male  28.880         0     no  northwest   3866.85520"
      ]
     },
     "execution_count": 27,
     "metadata": {},
     "output_type": "execute_result"
    }
   ],
   "source": [
    "df.head()"
   ]
  },
  {
   "cell_type": "code",
   "execution_count": 35,
   "id": "a8a8b041-00ce-4555-af20-ff1cb76d2ca1",
   "metadata": {},
   "outputs": [],
   "source": [
    "df = pd.get_dummies(df,columns = ['sex','smoker','region'],drop_first=True)"
   ]
  },
  {
   "cell_type": "code",
   "execution_count": 37,
   "id": "a7d7cd9e-1dbd-4b10-bca6-def7c9f661b1",
   "metadata": {},
   "outputs": [
    {
     "data": {
      "text/html": [
       "<div>\n",
       "<style scoped>\n",
       "    .dataframe tbody tr th:only-of-type {\n",
       "        vertical-align: middle;\n",
       "    }\n",
       "\n",
       "    .dataframe tbody tr th {\n",
       "        vertical-align: top;\n",
       "    }\n",
       "\n",
       "    .dataframe thead th {\n",
       "        text-align: right;\n",
       "    }\n",
       "</style>\n",
       "<table border=\"1\" class=\"dataframe\">\n",
       "  <thead>\n",
       "    <tr style=\"text-align: right;\">\n",
       "      <th></th>\n",
       "      <th>age</th>\n",
       "      <th>bmi</th>\n",
       "      <th>children</th>\n",
       "      <th>charges</th>\n",
       "      <th>sex_male</th>\n",
       "      <th>smoker_yes</th>\n",
       "      <th>region_northwest</th>\n",
       "      <th>region_southeast</th>\n",
       "      <th>region_southwest</th>\n",
       "    </tr>\n",
       "  </thead>\n",
       "  <tbody>\n",
       "    <tr>\n",
       "      <th>0</th>\n",
       "      <td>19</td>\n",
       "      <td>27.900</td>\n",
       "      <td>0</td>\n",
       "      <td>16884.92400</td>\n",
       "      <td>False</td>\n",
       "      <td>True</td>\n",
       "      <td>False</td>\n",
       "      <td>False</td>\n",
       "      <td>True</td>\n",
       "    </tr>\n",
       "    <tr>\n",
       "      <th>1</th>\n",
       "      <td>18</td>\n",
       "      <td>33.770</td>\n",
       "      <td>1</td>\n",
       "      <td>1725.55230</td>\n",
       "      <td>True</td>\n",
       "      <td>False</td>\n",
       "      <td>False</td>\n",
       "      <td>True</td>\n",
       "      <td>False</td>\n",
       "    </tr>\n",
       "    <tr>\n",
       "      <th>2</th>\n",
       "      <td>28</td>\n",
       "      <td>33.000</td>\n",
       "      <td>3</td>\n",
       "      <td>4449.46200</td>\n",
       "      <td>True</td>\n",
       "      <td>False</td>\n",
       "      <td>False</td>\n",
       "      <td>True</td>\n",
       "      <td>False</td>\n",
       "    </tr>\n",
       "    <tr>\n",
       "      <th>3</th>\n",
       "      <td>33</td>\n",
       "      <td>22.705</td>\n",
       "      <td>0</td>\n",
       "      <td>21984.47061</td>\n",
       "      <td>True</td>\n",
       "      <td>False</td>\n",
       "      <td>True</td>\n",
       "      <td>False</td>\n",
       "      <td>False</td>\n",
       "    </tr>\n",
       "    <tr>\n",
       "      <th>4</th>\n",
       "      <td>32</td>\n",
       "      <td>28.880</td>\n",
       "      <td>0</td>\n",
       "      <td>3866.85520</td>\n",
       "      <td>True</td>\n",
       "      <td>False</td>\n",
       "      <td>True</td>\n",
       "      <td>False</td>\n",
       "      <td>False</td>\n",
       "    </tr>\n",
       "  </tbody>\n",
       "</table>\n",
       "</div>"
      ],
      "text/plain": [
       "   age     bmi  children      charges  sex_male  smoker_yes  region_northwest  \\\n",
       "0   19  27.900         0  16884.92400     False        True             False   \n",
       "1   18  33.770         1   1725.55230      True       False             False   \n",
       "2   28  33.000         3   4449.46200      True       False             False   \n",
       "3   33  22.705         0  21984.47061      True       False              True   \n",
       "4   32  28.880         0   3866.85520      True       False              True   \n",
       "\n",
       "   region_southeast  region_southwest  \n",
       "0             False              True  \n",
       "1              True             False  \n",
       "2              True             False  \n",
       "3             False             False  \n",
       "4             False             False  "
      ]
     },
     "execution_count": 37,
     "metadata": {},
     "output_type": "execute_result"
    }
   ],
   "source": [
    "df.head()"
   ]
  },
  {
   "cell_type": "code",
   "execution_count": 39,
   "id": "56b3e081-39d3-41a8-b449-27a45327c185",
   "metadata": {},
   "outputs": [],
   "source": [
    "y = df[['charges']]"
   ]
  },
  {
   "cell_type": "code",
   "execution_count": 41,
   "id": "e1a1656c-ac1d-4e7a-998d-4a03e85a7b12",
   "metadata": {},
   "outputs": [],
   "source": [
    "x = df.drop('charges',axis=1)"
   ]
  },
  {
   "cell_type": "code",
   "execution_count": 43,
   "id": "4fd5e154-4f34-40ba-8ef4-a7fe641d8e96",
   "metadata": {},
   "outputs": [],
   "source": [
    "lm = LinearRegression()"
   ]
  },
  {
   "cell_type": "code",
   "execution_count": 45,
   "id": "d477fb10-febe-4b11-8cd0-7177b1cc2d21",
   "metadata": {},
   "outputs": [],
   "source": [
    "model = lm.fit(x,y)"
   ]
  },
  {
   "cell_type": "code",
   "execution_count": 47,
   "id": "e9a0ce6f-a0d9-4c2c-8f89-9d20b2cc8d70",
   "metadata": {},
   "outputs": [
    {
     "data": {
      "text/plain": [
       "0.7509130345985207"
      ]
     },
     "execution_count": 47,
     "metadata": {},
     "output_type": "execute_result"
    }
   ],
   "source": [
    "model.score(x,y)"
   ]
  },
  {
   "cell_type": "code",
   "execution_count": 49,
   "id": "b763801f-3d20-4f3d-a271-f15a5ffb8e8e",
   "metadata": {},
   "outputs": [
    {
     "name": "stderr",
     "output_type": "stream",
     "text": [
      "C:\\Users\\emre_\\anaconda3\\Lib\\site-packages\\sklearn\\base.py:493: UserWarning: X does not have valid feature names, but LinearRegression was fitted with feature names\n",
      "  warnings.warn(\n"
     ]
    },
    {
     "data": {
      "text/plain": [
       "array([[24517.93110714]])"
      ]
     },
     "execution_count": 49,
     "metadata": {},
     "output_type": "execute_result"
    }
   ],
   "source": [
    "model.predict([[19,26,0,1,1,0,0,1]])"
   ]
  },
  {
   "cell_type": "code",
   "execution_count": 51,
   "id": "26058fbf-b57d-4b42-97dd-52f612f181f9",
   "metadata": {},
   "outputs": [],
   "source": [
    "df_hata = pd.DataFrame()"
   ]
  },
  {
   "cell_type": "code",
   "execution_count": 53,
   "id": "1a18d2f1-5a79-44ce-8883-1c4a338b468c",
   "metadata": {},
   "outputs": [],
   "source": [
    "df_hata['y'] = y"
   ]
  },
  {
   "cell_type": "code",
   "execution_count": 55,
   "id": "cd3b2de7-7aa4-4de8-826c-e60f869c0195",
   "metadata": {},
   "outputs": [
    {
     "data": {
      "text/html": [
       "<div>\n",
       "<style scoped>\n",
       "    .dataframe tbody tr th:only-of-type {\n",
       "        vertical-align: middle;\n",
       "    }\n",
       "\n",
       "    .dataframe tbody tr th {\n",
       "        vertical-align: top;\n",
       "    }\n",
       "\n",
       "    .dataframe thead th {\n",
       "        text-align: right;\n",
       "    }\n",
       "</style>\n",
       "<table border=\"1\" class=\"dataframe\">\n",
       "  <thead>\n",
       "    <tr style=\"text-align: right;\">\n",
       "      <th></th>\n",
       "      <th>y</th>\n",
       "    </tr>\n",
       "  </thead>\n",
       "  <tbody>\n",
       "    <tr>\n",
       "      <th>0</th>\n",
       "      <td>16884.92400</td>\n",
       "    </tr>\n",
       "    <tr>\n",
       "      <th>1</th>\n",
       "      <td>1725.55230</td>\n",
       "    </tr>\n",
       "    <tr>\n",
       "      <th>2</th>\n",
       "      <td>4449.46200</td>\n",
       "    </tr>\n",
       "    <tr>\n",
       "      <th>3</th>\n",
       "      <td>21984.47061</td>\n",
       "    </tr>\n",
       "    <tr>\n",
       "      <th>4</th>\n",
       "      <td>3866.85520</td>\n",
       "    </tr>\n",
       "    <tr>\n",
       "      <th>...</th>\n",
       "      <td>...</td>\n",
       "    </tr>\n",
       "    <tr>\n",
       "      <th>1333</th>\n",
       "      <td>10600.54830</td>\n",
       "    </tr>\n",
       "    <tr>\n",
       "      <th>1334</th>\n",
       "      <td>2205.98080</td>\n",
       "    </tr>\n",
       "    <tr>\n",
       "      <th>1335</th>\n",
       "      <td>1629.83350</td>\n",
       "    </tr>\n",
       "    <tr>\n",
       "      <th>1336</th>\n",
       "      <td>2007.94500</td>\n",
       "    </tr>\n",
       "    <tr>\n",
       "      <th>1337</th>\n",
       "      <td>29141.36030</td>\n",
       "    </tr>\n",
       "  </tbody>\n",
       "</table>\n",
       "<p>1338 rows × 1 columns</p>\n",
       "</div>"
      ],
      "text/plain": [
       "                y\n",
       "0     16884.92400\n",
       "1      1725.55230\n",
       "2      4449.46200\n",
       "3     21984.47061\n",
       "4      3866.85520\n",
       "...           ...\n",
       "1333  10600.54830\n",
       "1334   2205.98080\n",
       "1335   1629.83350\n",
       "1336   2007.94500\n",
       "1337  29141.36030\n",
       "\n",
       "[1338 rows x 1 columns]"
      ]
     },
     "execution_count": 55,
     "metadata": {},
     "output_type": "execute_result"
    }
   ],
   "source": [
    "df_hata"
   ]
  },
  {
   "cell_type": "code",
   "execution_count": 59,
   "id": "bae76c43-983b-4432-9f74-a75bc1626586",
   "metadata": {},
   "outputs": [],
   "source": [
    "y_tahmin = model.predict(x)"
   ]
  },
  {
   "cell_type": "code",
   "execution_count": 61,
   "id": "d2ba4d7f-9833-47f4-976d-bf8536753902",
   "metadata": {},
   "outputs": [],
   "source": [
    "df_hata['tahmin'] = y_tahmin"
   ]
  },
  {
   "cell_type": "code",
   "execution_count": 63,
   "id": "9682bba6-50e0-45df-9c69-c753bd849693",
   "metadata": {},
   "outputs": [
    {
     "data": {
      "text/html": [
       "<div>\n",
       "<style scoped>\n",
       "    .dataframe tbody tr th:only-of-type {\n",
       "        vertical-align: middle;\n",
       "    }\n",
       "\n",
       "    .dataframe tbody tr th {\n",
       "        vertical-align: top;\n",
       "    }\n",
       "\n",
       "    .dataframe thead th {\n",
       "        text-align: right;\n",
       "    }\n",
       "</style>\n",
       "<table border=\"1\" class=\"dataframe\">\n",
       "  <thead>\n",
       "    <tr style=\"text-align: right;\">\n",
       "      <th></th>\n",
       "      <th>y</th>\n",
       "      <th>tahmin</th>\n",
       "    </tr>\n",
       "  </thead>\n",
       "  <tbody>\n",
       "    <tr>\n",
       "      <th>0</th>\n",
       "      <td>16884.92400</td>\n",
       "      <td>25293.713028</td>\n",
       "    </tr>\n",
       "    <tr>\n",
       "      <th>1</th>\n",
       "      <td>1725.55230</td>\n",
       "      <td>3448.602834</td>\n",
       "    </tr>\n",
       "    <tr>\n",
       "      <th>2</th>\n",
       "      <td>4449.46200</td>\n",
       "      <td>6706.988491</td>\n",
       "    </tr>\n",
       "    <tr>\n",
       "      <th>3</th>\n",
       "      <td>21984.47061</td>\n",
       "      <td>3754.830163</td>\n",
       "    </tr>\n",
       "    <tr>\n",
       "      <th>4</th>\n",
       "      <td>3866.85520</td>\n",
       "      <td>5592.493386</td>\n",
       "    </tr>\n",
       "    <tr>\n",
       "      <th>...</th>\n",
       "      <td>...</td>\n",
       "      <td>...</td>\n",
       "    </tr>\n",
       "    <tr>\n",
       "      <th>1333</th>\n",
       "      <td>10600.54830</td>\n",
       "      <td>12351.323686</td>\n",
       "    </tr>\n",
       "    <tr>\n",
       "      <th>1334</th>\n",
       "      <td>2205.98080</td>\n",
       "      <td>3511.930809</td>\n",
       "    </tr>\n",
       "    <tr>\n",
       "      <th>1335</th>\n",
       "      <td>1629.83350</td>\n",
       "      <td>4149.132486</td>\n",
       "    </tr>\n",
       "    <tr>\n",
       "      <th>1336</th>\n",
       "      <td>2007.94500</td>\n",
       "      <td>1246.584939</td>\n",
       "    </tr>\n",
       "    <tr>\n",
       "      <th>1337</th>\n",
       "      <td>29141.36030</td>\n",
       "      <td>37085.623268</td>\n",
       "    </tr>\n",
       "  </tbody>\n",
       "</table>\n",
       "<p>1338 rows × 2 columns</p>\n",
       "</div>"
      ],
      "text/plain": [
       "                y        tahmin\n",
       "0     16884.92400  25293.713028\n",
       "1      1725.55230   3448.602834\n",
       "2      4449.46200   6706.988491\n",
       "3     21984.47061   3754.830163\n",
       "4      3866.85520   5592.493386\n",
       "...           ...           ...\n",
       "1333  10600.54830  12351.323686\n",
       "1334   2205.98080   3511.930809\n",
       "1335   1629.83350   4149.132486\n",
       "1336   2007.94500   1246.584939\n",
       "1337  29141.36030  37085.623268\n",
       "\n",
       "[1338 rows x 2 columns]"
      ]
     },
     "execution_count": 63,
     "metadata": {},
     "output_type": "execute_result"
    }
   ],
   "source": [
    "df_hata"
   ]
  },
  {
   "cell_type": "code",
   "execution_count": 65,
   "id": "cd40bbaa-4565-4e01-a08a-2d1995172705",
   "metadata": {},
   "outputs": [],
   "source": [
    "df_hata['error'] = y-y_tahmin"
   ]
  },
  {
   "cell_type": "code",
   "execution_count": 67,
   "id": "9d773f39-777a-4adb-9282-f572e703ac55",
   "metadata": {},
   "outputs": [
    {
     "data": {
      "text/html": [
       "<div>\n",
       "<style scoped>\n",
       "    .dataframe tbody tr th:only-of-type {\n",
       "        vertical-align: middle;\n",
       "    }\n",
       "\n",
       "    .dataframe tbody tr th {\n",
       "        vertical-align: top;\n",
       "    }\n",
       "\n",
       "    .dataframe thead th {\n",
       "        text-align: right;\n",
       "    }\n",
       "</style>\n",
       "<table border=\"1\" class=\"dataframe\">\n",
       "  <thead>\n",
       "    <tr style=\"text-align: right;\">\n",
       "      <th></th>\n",
       "      <th>y</th>\n",
       "      <th>tahmin</th>\n",
       "      <th>error</th>\n",
       "    </tr>\n",
       "  </thead>\n",
       "  <tbody>\n",
       "    <tr>\n",
       "      <th>0</th>\n",
       "      <td>16884.92400</td>\n",
       "      <td>25293.713028</td>\n",
       "      <td>-8408.789028</td>\n",
       "    </tr>\n",
       "    <tr>\n",
       "      <th>1</th>\n",
       "      <td>1725.55230</td>\n",
       "      <td>3448.602834</td>\n",
       "      <td>-1723.050534</td>\n",
       "    </tr>\n",
       "    <tr>\n",
       "      <th>2</th>\n",
       "      <td>4449.46200</td>\n",
       "      <td>6706.988491</td>\n",
       "      <td>-2257.526491</td>\n",
       "    </tr>\n",
       "    <tr>\n",
       "      <th>3</th>\n",
       "      <td>21984.47061</td>\n",
       "      <td>3754.830163</td>\n",
       "      <td>18229.640447</td>\n",
       "    </tr>\n",
       "    <tr>\n",
       "      <th>4</th>\n",
       "      <td>3866.85520</td>\n",
       "      <td>5592.493386</td>\n",
       "      <td>-1725.638186</td>\n",
       "    </tr>\n",
       "    <tr>\n",
       "      <th>...</th>\n",
       "      <td>...</td>\n",
       "      <td>...</td>\n",
       "      <td>...</td>\n",
       "    </tr>\n",
       "    <tr>\n",
       "      <th>1333</th>\n",
       "      <td>10600.54830</td>\n",
       "      <td>12351.323686</td>\n",
       "      <td>-1750.775386</td>\n",
       "    </tr>\n",
       "    <tr>\n",
       "      <th>1334</th>\n",
       "      <td>2205.98080</td>\n",
       "      <td>3511.930809</td>\n",
       "      <td>-1305.950009</td>\n",
       "    </tr>\n",
       "    <tr>\n",
       "      <th>1335</th>\n",
       "      <td>1629.83350</td>\n",
       "      <td>4149.132486</td>\n",
       "      <td>-2519.298986</td>\n",
       "    </tr>\n",
       "    <tr>\n",
       "      <th>1336</th>\n",
       "      <td>2007.94500</td>\n",
       "      <td>1246.584939</td>\n",
       "      <td>761.360061</td>\n",
       "    </tr>\n",
       "    <tr>\n",
       "      <th>1337</th>\n",
       "      <td>29141.36030</td>\n",
       "      <td>37085.623268</td>\n",
       "      <td>-7944.262968</td>\n",
       "    </tr>\n",
       "  </tbody>\n",
       "</table>\n",
       "<p>1338 rows × 3 columns</p>\n",
       "</div>"
      ],
      "text/plain": [
       "                y        tahmin         error\n",
       "0     16884.92400  25293.713028  -8408.789028\n",
       "1      1725.55230   3448.602834  -1723.050534\n",
       "2      4449.46200   6706.988491  -2257.526491\n",
       "3     21984.47061   3754.830163  18229.640447\n",
       "4      3866.85520   5592.493386  -1725.638186\n",
       "...           ...           ...           ...\n",
       "1333  10600.54830  12351.323686  -1750.775386\n",
       "1334   2205.98080   3511.930809  -1305.950009\n",
       "1335   1629.83350   4149.132486  -2519.298986\n",
       "1336   2007.94500   1246.584939    761.360061\n",
       "1337  29141.36030  37085.623268  -7944.262968\n",
       "\n",
       "[1338 rows x 3 columns]"
      ]
     },
     "execution_count": 67,
     "metadata": {},
     "output_type": "execute_result"
    }
   ],
   "source": [
    "df_hata"
   ]
  },
  {
   "cell_type": "code",
   "execution_count": 69,
   "id": "d930da15-63f8-4a86-8924-624937af2d4d",
   "metadata": {},
   "outputs": [],
   "source": [
    "#mse"
   ]
  },
  {
   "cell_type": "code",
   "execution_count": 71,
   "id": "47faf65e-e603-4a6b-b58d-353f5c29515b",
   "metadata": {},
   "outputs": [],
   "source": [
    "df_hata['squared_error'] = df_hata['error']**2"
   ]
  },
  {
   "cell_type": "code",
   "execution_count": 73,
   "id": "f0007f56-8a1c-4fa6-a19c-5807ddc42b40",
   "metadata": {},
   "outputs": [
    {
     "data": {
      "text/html": [
       "<div>\n",
       "<style scoped>\n",
       "    .dataframe tbody tr th:only-of-type {\n",
       "        vertical-align: middle;\n",
       "    }\n",
       "\n",
       "    .dataframe tbody tr th {\n",
       "        vertical-align: top;\n",
       "    }\n",
       "\n",
       "    .dataframe thead th {\n",
       "        text-align: right;\n",
       "    }\n",
       "</style>\n",
       "<table border=\"1\" class=\"dataframe\">\n",
       "  <thead>\n",
       "    <tr style=\"text-align: right;\">\n",
       "      <th></th>\n",
       "      <th>y</th>\n",
       "      <th>tahmin</th>\n",
       "      <th>error</th>\n",
       "      <th>squared_error</th>\n",
       "    </tr>\n",
       "  </thead>\n",
       "  <tbody>\n",
       "    <tr>\n",
       "      <th>0</th>\n",
       "      <td>16884.92400</td>\n",
       "      <td>25293.713028</td>\n",
       "      <td>-8408.789028</td>\n",
       "      <td>7.070773e+07</td>\n",
       "    </tr>\n",
       "    <tr>\n",
       "      <th>1</th>\n",
       "      <td>1725.55230</td>\n",
       "      <td>3448.602834</td>\n",
       "      <td>-1723.050534</td>\n",
       "      <td>2.968903e+06</td>\n",
       "    </tr>\n",
       "    <tr>\n",
       "      <th>2</th>\n",
       "      <td>4449.46200</td>\n",
       "      <td>6706.988491</td>\n",
       "      <td>-2257.526491</td>\n",
       "      <td>5.096426e+06</td>\n",
       "    </tr>\n",
       "    <tr>\n",
       "      <th>3</th>\n",
       "      <td>21984.47061</td>\n",
       "      <td>3754.830163</td>\n",
       "      <td>18229.640447</td>\n",
       "      <td>3.323198e+08</td>\n",
       "    </tr>\n",
       "    <tr>\n",
       "      <th>4</th>\n",
       "      <td>3866.85520</td>\n",
       "      <td>5592.493386</td>\n",
       "      <td>-1725.638186</td>\n",
       "      <td>2.977827e+06</td>\n",
       "    </tr>\n",
       "    <tr>\n",
       "      <th>...</th>\n",
       "      <td>...</td>\n",
       "      <td>...</td>\n",
       "      <td>...</td>\n",
       "      <td>...</td>\n",
       "    </tr>\n",
       "    <tr>\n",
       "      <th>1333</th>\n",
       "      <td>10600.54830</td>\n",
       "      <td>12351.323686</td>\n",
       "      <td>-1750.775386</td>\n",
       "      <td>3.065214e+06</td>\n",
       "    </tr>\n",
       "    <tr>\n",
       "      <th>1334</th>\n",
       "      <td>2205.98080</td>\n",
       "      <td>3511.930809</td>\n",
       "      <td>-1305.950009</td>\n",
       "      <td>1.705505e+06</td>\n",
       "    </tr>\n",
       "    <tr>\n",
       "      <th>1335</th>\n",
       "      <td>1629.83350</td>\n",
       "      <td>4149.132486</td>\n",
       "      <td>-2519.298986</td>\n",
       "      <td>6.346867e+06</td>\n",
       "    </tr>\n",
       "    <tr>\n",
       "      <th>1336</th>\n",
       "      <td>2007.94500</td>\n",
       "      <td>1246.584939</td>\n",
       "      <td>761.360061</td>\n",
       "      <td>5.796691e+05</td>\n",
       "    </tr>\n",
       "    <tr>\n",
       "      <th>1337</th>\n",
       "      <td>29141.36030</td>\n",
       "      <td>37085.623268</td>\n",
       "      <td>-7944.262968</td>\n",
       "      <td>6.311131e+07</td>\n",
       "    </tr>\n",
       "  </tbody>\n",
       "</table>\n",
       "<p>1338 rows × 4 columns</p>\n",
       "</div>"
      ],
      "text/plain": [
       "                y        tahmin         error  squared_error\n",
       "0     16884.92400  25293.713028  -8408.789028   7.070773e+07\n",
       "1      1725.55230   3448.602834  -1723.050534   2.968903e+06\n",
       "2      4449.46200   6706.988491  -2257.526491   5.096426e+06\n",
       "3     21984.47061   3754.830163  18229.640447   3.323198e+08\n",
       "4      3866.85520   5592.493386  -1725.638186   2.977827e+06\n",
       "...           ...           ...           ...            ...\n",
       "1333  10600.54830  12351.323686  -1750.775386   3.065214e+06\n",
       "1334   2205.98080   3511.930809  -1305.950009   1.705505e+06\n",
       "1335   1629.83350   4149.132486  -2519.298986   6.346867e+06\n",
       "1336   2007.94500   1246.584939    761.360061   5.796691e+05\n",
       "1337  29141.36030  37085.623268  -7944.262968   6.311131e+07\n",
       "\n",
       "[1338 rows x 4 columns]"
      ]
     },
     "execution_count": 73,
     "metadata": {},
     "output_type": "execute_result"
    }
   ],
   "source": [
    "df_hata"
   ]
  },
  {
   "cell_type": "code",
   "execution_count": 75,
   "id": "3d309089-3c12-4a95-90b0-dfc0d25b0390",
   "metadata": {},
   "outputs": [],
   "source": [
    "df_hata['abs_error'] = np.abs(df_hata['error'])"
   ]
  },
  {
   "cell_type": "code",
   "execution_count": 77,
   "id": "50145dbf-31ff-4449-a8ea-2a97296e4c64",
   "metadata": {},
   "outputs": [
    {
     "data": {
      "text/html": [
       "<div>\n",
       "<style scoped>\n",
       "    .dataframe tbody tr th:only-of-type {\n",
       "        vertical-align: middle;\n",
       "    }\n",
       "\n",
       "    .dataframe tbody tr th {\n",
       "        vertical-align: top;\n",
       "    }\n",
       "\n",
       "    .dataframe thead th {\n",
       "        text-align: right;\n",
       "    }\n",
       "</style>\n",
       "<table border=\"1\" class=\"dataframe\">\n",
       "  <thead>\n",
       "    <tr style=\"text-align: right;\">\n",
       "      <th></th>\n",
       "      <th>y</th>\n",
       "      <th>tahmin</th>\n",
       "      <th>error</th>\n",
       "      <th>squared_error</th>\n",
       "      <th>abs_error</th>\n",
       "    </tr>\n",
       "  </thead>\n",
       "  <tbody>\n",
       "    <tr>\n",
       "      <th>0</th>\n",
       "      <td>16884.92400</td>\n",
       "      <td>25293.713028</td>\n",
       "      <td>-8408.789028</td>\n",
       "      <td>7.070773e+07</td>\n",
       "      <td>8408.789028</td>\n",
       "    </tr>\n",
       "    <tr>\n",
       "      <th>1</th>\n",
       "      <td>1725.55230</td>\n",
       "      <td>3448.602834</td>\n",
       "      <td>-1723.050534</td>\n",
       "      <td>2.968903e+06</td>\n",
       "      <td>1723.050534</td>\n",
       "    </tr>\n",
       "    <tr>\n",
       "      <th>2</th>\n",
       "      <td>4449.46200</td>\n",
       "      <td>6706.988491</td>\n",
       "      <td>-2257.526491</td>\n",
       "      <td>5.096426e+06</td>\n",
       "      <td>2257.526491</td>\n",
       "    </tr>\n",
       "    <tr>\n",
       "      <th>3</th>\n",
       "      <td>21984.47061</td>\n",
       "      <td>3754.830163</td>\n",
       "      <td>18229.640447</td>\n",
       "      <td>3.323198e+08</td>\n",
       "      <td>18229.640447</td>\n",
       "    </tr>\n",
       "    <tr>\n",
       "      <th>4</th>\n",
       "      <td>3866.85520</td>\n",
       "      <td>5592.493386</td>\n",
       "      <td>-1725.638186</td>\n",
       "      <td>2.977827e+06</td>\n",
       "      <td>1725.638186</td>\n",
       "    </tr>\n",
       "    <tr>\n",
       "      <th>...</th>\n",
       "      <td>...</td>\n",
       "      <td>...</td>\n",
       "      <td>...</td>\n",
       "      <td>...</td>\n",
       "      <td>...</td>\n",
       "    </tr>\n",
       "    <tr>\n",
       "      <th>1333</th>\n",
       "      <td>10600.54830</td>\n",
       "      <td>12351.323686</td>\n",
       "      <td>-1750.775386</td>\n",
       "      <td>3.065214e+06</td>\n",
       "      <td>1750.775386</td>\n",
       "    </tr>\n",
       "    <tr>\n",
       "      <th>1334</th>\n",
       "      <td>2205.98080</td>\n",
       "      <td>3511.930809</td>\n",
       "      <td>-1305.950009</td>\n",
       "      <td>1.705505e+06</td>\n",
       "      <td>1305.950009</td>\n",
       "    </tr>\n",
       "    <tr>\n",
       "      <th>1335</th>\n",
       "      <td>1629.83350</td>\n",
       "      <td>4149.132486</td>\n",
       "      <td>-2519.298986</td>\n",
       "      <td>6.346867e+06</td>\n",
       "      <td>2519.298986</td>\n",
       "    </tr>\n",
       "    <tr>\n",
       "      <th>1336</th>\n",
       "      <td>2007.94500</td>\n",
       "      <td>1246.584939</td>\n",
       "      <td>761.360061</td>\n",
       "      <td>5.796691e+05</td>\n",
       "      <td>761.360061</td>\n",
       "    </tr>\n",
       "    <tr>\n",
       "      <th>1337</th>\n",
       "      <td>29141.36030</td>\n",
       "      <td>37085.623268</td>\n",
       "      <td>-7944.262968</td>\n",
       "      <td>6.311131e+07</td>\n",
       "      <td>7944.262968</td>\n",
       "    </tr>\n",
       "  </tbody>\n",
       "</table>\n",
       "<p>1338 rows × 5 columns</p>\n",
       "</div>"
      ],
      "text/plain": [
       "                y        tahmin         error  squared_error     abs_error\n",
       "0     16884.92400  25293.713028  -8408.789028   7.070773e+07   8408.789028\n",
       "1      1725.55230   3448.602834  -1723.050534   2.968903e+06   1723.050534\n",
       "2      4449.46200   6706.988491  -2257.526491   5.096426e+06   2257.526491\n",
       "3     21984.47061   3754.830163  18229.640447   3.323198e+08  18229.640447\n",
       "4      3866.85520   5592.493386  -1725.638186   2.977827e+06   1725.638186\n",
       "...           ...           ...           ...            ...           ...\n",
       "1333  10600.54830  12351.323686  -1750.775386   3.065214e+06   1750.775386\n",
       "1334   2205.98080   3511.930809  -1305.950009   1.705505e+06   1305.950009\n",
       "1335   1629.83350   4149.132486  -2519.298986   6.346867e+06   2519.298986\n",
       "1336   2007.94500   1246.584939    761.360061   5.796691e+05    761.360061\n",
       "1337  29141.36030  37085.623268  -7944.262968   6.311131e+07   7944.262968\n",
       "\n",
       "[1338 rows x 5 columns]"
      ]
     },
     "execution_count": 77,
     "metadata": {},
     "output_type": "execute_result"
    }
   ],
   "source": [
    "df_hata"
   ]
  },
  {
   "cell_type": "code",
   "execution_count": 93,
   "id": "8c627749-485a-4630-b4fa-d5edf1c9ab7b",
   "metadata": {},
   "outputs": [],
   "source": [
    "df_hata['percent_error'] =np.abs(( y-y_tahmin ) / y ) #mape"
   ]
  },
  {
   "cell_type": "code",
   "execution_count": 89,
   "id": "5124968a-1dc7-46e0-9d1e-5e2c51518bfa",
   "metadata": {},
   "outputs": [
    {
     "data": {
      "text/html": [
       "<div>\n",
       "<style scoped>\n",
       "    .dataframe tbody tr th:only-of-type {\n",
       "        vertical-align: middle;\n",
       "    }\n",
       "\n",
       "    .dataframe tbody tr th {\n",
       "        vertical-align: top;\n",
       "    }\n",
       "\n",
       "    .dataframe thead th {\n",
       "        text-align: right;\n",
       "    }\n",
       "</style>\n",
       "<table border=\"1\" class=\"dataframe\">\n",
       "  <thead>\n",
       "    <tr style=\"text-align: right;\">\n",
       "      <th></th>\n",
       "      <th>y</th>\n",
       "      <th>tahmin</th>\n",
       "      <th>error</th>\n",
       "      <th>squared_error</th>\n",
       "      <th>abs_error</th>\n",
       "      <th>percent_error</th>\n",
       "    </tr>\n",
       "  </thead>\n",
       "  <tbody>\n",
       "    <tr>\n",
       "      <th>0</th>\n",
       "      <td>16884.92400</td>\n",
       "      <td>25293.713028</td>\n",
       "      <td>-8408.789028</td>\n",
       "      <td>7.070773e+07</td>\n",
       "      <td>8408.789028</td>\n",
       "      <td>0.498006</td>\n",
       "    </tr>\n",
       "    <tr>\n",
       "      <th>1</th>\n",
       "      <td>1725.55230</td>\n",
       "      <td>3448.602834</td>\n",
       "      <td>-1723.050534</td>\n",
       "      <td>2.968903e+06</td>\n",
       "      <td>1723.050534</td>\n",
       "      <td>0.998550</td>\n",
       "    </tr>\n",
       "    <tr>\n",
       "      <th>2</th>\n",
       "      <td>4449.46200</td>\n",
       "      <td>6706.988491</td>\n",
       "      <td>-2257.526491</td>\n",
       "      <td>5.096426e+06</td>\n",
       "      <td>2257.526491</td>\n",
       "      <td>0.507371</td>\n",
       "    </tr>\n",
       "    <tr>\n",
       "      <th>3</th>\n",
       "      <td>21984.47061</td>\n",
       "      <td>3754.830163</td>\n",
       "      <td>18229.640447</td>\n",
       "      <td>3.323198e+08</td>\n",
       "      <td>18229.640447</td>\n",
       "      <td>0.829205</td>\n",
       "    </tr>\n",
       "    <tr>\n",
       "      <th>4</th>\n",
       "      <td>3866.85520</td>\n",
       "      <td>5592.493386</td>\n",
       "      <td>-1725.638186</td>\n",
       "      <td>2.977827e+06</td>\n",
       "      <td>1725.638186</td>\n",
       "      <td>0.446264</td>\n",
       "    </tr>\n",
       "    <tr>\n",
       "      <th>...</th>\n",
       "      <td>...</td>\n",
       "      <td>...</td>\n",
       "      <td>...</td>\n",
       "      <td>...</td>\n",
       "      <td>...</td>\n",
       "      <td>...</td>\n",
       "    </tr>\n",
       "    <tr>\n",
       "      <th>1333</th>\n",
       "      <td>10600.54830</td>\n",
       "      <td>12351.323686</td>\n",
       "      <td>-1750.775386</td>\n",
       "      <td>3.065214e+06</td>\n",
       "      <td>1750.775386</td>\n",
       "      <td>0.165159</td>\n",
       "    </tr>\n",
       "    <tr>\n",
       "      <th>1334</th>\n",
       "      <td>2205.98080</td>\n",
       "      <td>3511.930809</td>\n",
       "      <td>-1305.950009</td>\n",
       "      <td>1.705505e+06</td>\n",
       "      <td>1305.950009</td>\n",
       "      <td>0.592004</td>\n",
       "    </tr>\n",
       "    <tr>\n",
       "      <th>1335</th>\n",
       "      <td>1629.83350</td>\n",
       "      <td>4149.132486</td>\n",
       "      <td>-2519.298986</td>\n",
       "      <td>6.346867e+06</td>\n",
       "      <td>2519.298986</td>\n",
       "      <td>1.545740</td>\n",
       "    </tr>\n",
       "    <tr>\n",
       "      <th>1336</th>\n",
       "      <td>2007.94500</td>\n",
       "      <td>1246.584939</td>\n",
       "      <td>761.360061</td>\n",
       "      <td>5.796691e+05</td>\n",
       "      <td>761.360061</td>\n",
       "      <td>0.379174</td>\n",
       "    </tr>\n",
       "    <tr>\n",
       "      <th>1337</th>\n",
       "      <td>29141.36030</td>\n",
       "      <td>37085.623268</td>\n",
       "      <td>-7944.262968</td>\n",
       "      <td>6.311131e+07</td>\n",
       "      <td>7944.262968</td>\n",
       "      <td>0.272611</td>\n",
       "    </tr>\n",
       "  </tbody>\n",
       "</table>\n",
       "<p>1338 rows × 6 columns</p>\n",
       "</div>"
      ],
      "text/plain": [
       "                y        tahmin         error  squared_error     abs_error  \\\n",
       "0     16884.92400  25293.713028  -8408.789028   7.070773e+07   8408.789028   \n",
       "1      1725.55230   3448.602834  -1723.050534   2.968903e+06   1723.050534   \n",
       "2      4449.46200   6706.988491  -2257.526491   5.096426e+06   2257.526491   \n",
       "3     21984.47061   3754.830163  18229.640447   3.323198e+08  18229.640447   \n",
       "4      3866.85520   5592.493386  -1725.638186   2.977827e+06   1725.638186   \n",
       "...           ...           ...           ...            ...           ...   \n",
       "1333  10600.54830  12351.323686  -1750.775386   3.065214e+06   1750.775386   \n",
       "1334   2205.98080   3511.930809  -1305.950009   1.705505e+06   1305.950009   \n",
       "1335   1629.83350   4149.132486  -2519.298986   6.346867e+06   2519.298986   \n",
       "1336   2007.94500   1246.584939    761.360061   5.796691e+05    761.360061   \n",
       "1337  29141.36030  37085.623268  -7944.262968   6.311131e+07   7944.262968   \n",
       "\n",
       "      percent_error  \n",
       "0          0.498006  \n",
       "1          0.998550  \n",
       "2          0.507371  \n",
       "3          0.829205  \n",
       "4          0.446264  \n",
       "...             ...  \n",
       "1333       0.165159  \n",
       "1334       0.592004  \n",
       "1335       1.545740  \n",
       "1336       0.379174  \n",
       "1337       0.272611  \n",
       "\n",
       "[1338 rows x 6 columns]"
      ]
     },
     "execution_count": 89,
     "metadata": {},
     "output_type": "execute_result"
    }
   ],
   "source": [
    "df_hata"
   ]
  },
  {
   "cell_type": "code",
   "execution_count": 91,
   "id": "823bc7d5-6536-4a33-a38a-c349963e3bf8",
   "metadata": {},
   "outputs": [
    {
     "data": {
      "text/plain": [
       "y                1.327042e+04\n",
       "tahmin           1.327042e+04\n",
       "error           -1.598753e-12\n",
       "squared_error    3.650189e+07\n",
       "abs_error        4.170887e+03\n",
       "percent_error    4.203527e-01\n",
       "dtype: float64"
      ]
     },
     "execution_count": 91,
     "metadata": {},
     "output_type": "execute_result"
    }
   ],
   "source": [
    "df_hata.mean()"
   ]
  },
  {
   "cell_type": "code",
   "execution_count": 97,
   "id": "c75bf6e0-231b-4906-951e-4828421ed928",
   "metadata": {},
   "outputs": [],
   "source": [
    "from sklearn.metrics import mean_squared_error , mean_absolute_error , mean_absolute_percentage_error"
   ]
  },
  {
   "cell_type": "code",
   "execution_count": 101,
   "id": "8b0c40ec-81c4-4664-a42e-90508a7cdcd7",
   "metadata": {},
   "outputs": [
    {
     "data": {
      "text/plain": [
       "36501893.00741544"
      ]
     },
     "execution_count": 101,
     "metadata": {},
     "output_type": "execute_result"
    }
   ],
   "source": [
    "mean_squared_error(y,y_tahmin)"
   ]
  },
  {
   "cell_type": "code",
   "execution_count": 105,
   "id": "8f3f9966-ea4d-4564-bb05-fd192617011a",
   "metadata": {},
   "outputs": [
    {
     "data": {
      "text/plain": [
       "4170.8868941635865"
      ]
     },
     "execution_count": 105,
     "metadata": {},
     "output_type": "execute_result"
    }
   ],
   "source": [
    "mean_absolute_error(y,y_tahmin)"
   ]
  },
  {
   "cell_type": "code",
   "execution_count": 107,
   "id": "ede72b0b-8c66-4c5c-bcf5-bbe7dd2aae2b",
   "metadata": {},
   "outputs": [
    {
     "data": {
      "text/plain": [
       "0.4203526847372706"
      ]
     },
     "execution_count": 107,
     "metadata": {},
     "output_type": "execute_result"
    }
   ],
   "source": [
    "mean_absolute_percentage_error(y,y_tahmin)"
   ]
  },
  {
   "cell_type": "code",
   "execution_count": null,
   "id": "7af62d4e-e9d5-4493-adcb-d99b7b23ff88",
   "metadata": {},
   "outputs": [],
   "source": []
  }
 ],
 "metadata": {
  "kernelspec": {
   "display_name": "Python [conda env:base] *",
   "language": "python",
   "name": "conda-base-py"
  },
  "language_info": {
   "codemirror_mode": {
    "name": "ipython",
    "version": 3
   },
   "file_extension": ".py",
   "mimetype": "text/x-python",
   "name": "python",
   "nbconvert_exporter": "python",
   "pygments_lexer": "ipython3",
   "version": "3.12.7"
  }
 },
 "nbformat": 4,
 "nbformat_minor": 5
}
