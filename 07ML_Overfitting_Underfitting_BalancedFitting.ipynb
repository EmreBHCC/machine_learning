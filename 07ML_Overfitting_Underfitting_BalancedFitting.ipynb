{
 "cells": [
  {
   "cell_type": "code",
   "execution_count": 1,
   "id": "333f0bf4-050f-4d5f-b79b-accee8939798",
   "metadata": {},
   "outputs": [],
   "source": [
    "#underfitting\n",
    "#overfitting\n",
    "#balancedfitting"
   ]
  },
  {
   "cell_type": "code",
   "execution_count": 9,
   "id": "3f393095-6056-4b54-ad67-08dda32d7035",
   "metadata": {},
   "outputs": [],
   "source": [
    "#underfitting beklenen den az birtr igrenme durumuna "
   ]
  },
  {
   "cell_type": "code",
   "execution_count": 11,
   "id": "b55be946-a852-47d5-89b7-bef4abd3f675",
   "metadata": {},
   "outputs": [],
   "source": [
    "#overfitting her bir deger icin fazladan ogrenme yaparak grasfigi cok egip bukmek dibilriz"
   ]
  },
  {
   "cell_type": "code",
   "execution_count": 13,
   "id": "09a4a887-cb19-45d2-9ced-793ff26daaa1",
   "metadata": {},
   "outputs": [],
   "source": [
    "#balancedfiting gerekli regulasyonlar yapilarak degistirilen gradik orenk olarak parabollestirme"
   ]
  },
  {
   "cell_type": "code",
   "execution_count": 17,
   "id": "f11d608f-0887-4ef1-a1e0-ac9e3c3a2a85",
   "metadata": {},
   "outputs": [],
   "source": [
    "#bir seyin skorunu o sey belirler , degisen seye bakilir ornek olarak"
   ]
  },
  {
   "cell_type": "code",
   "execution_count": 19,
   "id": "e18d5f5c-dc90-4307-86ca-62f6ef955a18",
   "metadata": {},
   "outputs": [],
   "source": [
    "#model yorumlarken genelde o verilerin bir onceki skoruna gore bakilir "
   ]
  },
  {
   "cell_type": "code",
   "execution_count": 1,
   "id": "b7844c5f-acbf-44ec-a2f8-ed736c49f5cc",
   "metadata": {},
   "outputs": [],
   "source": [
    "import  seaborn as sns"
   ]
  },
  {
   "cell_type": "code",
   "execution_count": 2,
   "id": "a6abe4df-964b-43aa-b076-0b7f7d35e6dd",
   "metadata": {},
   "outputs": [],
   "source": [
    "import pandas as pd"
   ]
  },
  {
   "cell_type": "code",
   "execution_count": 3,
   "id": "9d04739e-8ffc-4561-ad88-b38c8af6c037",
   "metadata": {},
   "outputs": [],
   "source": [
    "import numpy as np"
   ]
  },
  {
   "cell_type": "code",
   "execution_count": 4,
   "id": "a1c02312-73b4-48ac-b63a-99010500fbd1",
   "metadata": {},
   "outputs": [],
   "source": [
    "from sklearn.linear_model import LinearRegression"
   ]
  },
  {
   "cell_type": "code",
   "execution_count": 5,
   "id": "c87da0dc-ec05-443f-8749-cead698bc4db",
   "metadata": {},
   "outputs": [],
   "source": [
    "df = sns.load_dataset('diamonds')"
   ]
  },
  {
   "cell_type": "code",
   "execution_count": 6,
   "id": "d5b12383-15e9-46c9-87e3-6aeef28e33d0",
   "metadata": {},
   "outputs": [
    {
     "data": {
      "text/html": [
       "<div>\n",
       "<style scoped>\n",
       "    .dataframe tbody tr th:only-of-type {\n",
       "        vertical-align: middle;\n",
       "    }\n",
       "\n",
       "    .dataframe tbody tr th {\n",
       "        vertical-align: top;\n",
       "    }\n",
       "\n",
       "    .dataframe thead th {\n",
       "        text-align: right;\n",
       "    }\n",
       "</style>\n",
       "<table border=\"1\" class=\"dataframe\">\n",
       "  <thead>\n",
       "    <tr style=\"text-align: right;\">\n",
       "      <th></th>\n",
       "      <th>carat</th>\n",
       "      <th>cut</th>\n",
       "      <th>color</th>\n",
       "      <th>clarity</th>\n",
       "      <th>depth</th>\n",
       "      <th>table</th>\n",
       "      <th>price</th>\n",
       "      <th>x</th>\n",
       "      <th>y</th>\n",
       "      <th>z</th>\n",
       "    </tr>\n",
       "  </thead>\n",
       "  <tbody>\n",
       "    <tr>\n",
       "      <th>0</th>\n",
       "      <td>0.23</td>\n",
       "      <td>Ideal</td>\n",
       "      <td>E</td>\n",
       "      <td>SI2</td>\n",
       "      <td>61.5</td>\n",
       "      <td>55.0</td>\n",
       "      <td>326</td>\n",
       "      <td>3.95</td>\n",
       "      <td>3.98</td>\n",
       "      <td>2.43</td>\n",
       "    </tr>\n",
       "    <tr>\n",
       "      <th>1</th>\n",
       "      <td>0.21</td>\n",
       "      <td>Premium</td>\n",
       "      <td>E</td>\n",
       "      <td>SI1</td>\n",
       "      <td>59.8</td>\n",
       "      <td>61.0</td>\n",
       "      <td>326</td>\n",
       "      <td>3.89</td>\n",
       "      <td>3.84</td>\n",
       "      <td>2.31</td>\n",
       "    </tr>\n",
       "    <tr>\n",
       "      <th>2</th>\n",
       "      <td>0.23</td>\n",
       "      <td>Good</td>\n",
       "      <td>E</td>\n",
       "      <td>VS1</td>\n",
       "      <td>56.9</td>\n",
       "      <td>65.0</td>\n",
       "      <td>327</td>\n",
       "      <td>4.05</td>\n",
       "      <td>4.07</td>\n",
       "      <td>2.31</td>\n",
       "    </tr>\n",
       "    <tr>\n",
       "      <th>3</th>\n",
       "      <td>0.29</td>\n",
       "      <td>Premium</td>\n",
       "      <td>I</td>\n",
       "      <td>VS2</td>\n",
       "      <td>62.4</td>\n",
       "      <td>58.0</td>\n",
       "      <td>334</td>\n",
       "      <td>4.20</td>\n",
       "      <td>4.23</td>\n",
       "      <td>2.63</td>\n",
       "    </tr>\n",
       "    <tr>\n",
       "      <th>4</th>\n",
       "      <td>0.31</td>\n",
       "      <td>Good</td>\n",
       "      <td>J</td>\n",
       "      <td>SI2</td>\n",
       "      <td>63.3</td>\n",
       "      <td>58.0</td>\n",
       "      <td>335</td>\n",
       "      <td>4.34</td>\n",
       "      <td>4.35</td>\n",
       "      <td>2.75</td>\n",
       "    </tr>\n",
       "  </tbody>\n",
       "</table>\n",
       "</div>"
      ],
      "text/plain": [
       "   carat      cut color clarity  depth  table  price     x     y     z\n",
       "0   0.23    Ideal     E     SI2   61.5   55.0    326  3.95  3.98  2.43\n",
       "1   0.21  Premium     E     SI1   59.8   61.0    326  3.89  3.84  2.31\n",
       "2   0.23     Good     E     VS1   56.9   65.0    327  4.05  4.07  2.31\n",
       "3   0.29  Premium     I     VS2   62.4   58.0    334  4.20  4.23  2.63\n",
       "4   0.31     Good     J     SI2   63.3   58.0    335  4.34  4.35  2.75"
      ]
     },
     "execution_count": 6,
     "metadata": {},
     "output_type": "execute_result"
    }
   ],
   "source": [
    "df.head()"
   ]
  },
  {
   "cell_type": "code",
   "execution_count": 13,
   "id": "b4ca6711-351f-4f35-bb61-0f7b37e1923a",
   "metadata": {},
   "outputs": [],
   "source": [
    "df = pd.get_dummies(df,columns=['cut','color','clarity'],drop_first=True)"
   ]
  },
  {
   "cell_type": "code",
   "execution_count": 15,
   "id": "0c73c0f6-db35-482e-bf05-b500517a438c",
   "metadata": {},
   "outputs": [],
   "source": [
    "y=df[['price']]"
   ]
  },
  {
   "cell_type": "code",
   "execution_count": 17,
   "id": "fcefa461-c024-45e0-98fa-e6cd8b4795fa",
   "metadata": {},
   "outputs": [],
   "source": [
    "x =df.drop('price',axis=1)"
   ]
  },
  {
   "cell_type": "code",
   "execution_count": 36,
   "id": "7438d8ea-a11d-4820-9a58-8f0c4f229a65",
   "metadata": {},
   "outputs": [],
   "source": [
    "from sklearn.model_selection import train_test_split"
   ]
  },
  {
   "cell_type": "code",
   "execution_count": 38,
   "id": "2951a4f1-455f-43c7-a8c5-6464e01980c7",
   "metadata": {},
   "outputs": [],
   "source": [
    "x_train,x_test,y_train,y_test = train_test_split(x,y,random_state = 19,train_size = 0.76)"
   ]
  },
  {
   "cell_type": "code",
   "execution_count": 40,
   "id": "e4152f4e-8d1f-4098-bc3b-4ee63223d473",
   "metadata": {},
   "outputs": [],
   "source": [
    "lm = LinearRegression()\n",
    "model = lm.fit(x_train,y_train)"
   ]
  },
  {
   "cell_type": "code",
   "execution_count": 42,
   "id": "257fd5ff-ba2e-4381-aa7b-68b3c68a2c41",
   "metadata": {},
   "outputs": [
    {
     "data": {
      "text/plain": [
       "0.92006452446344"
      ]
     },
     "execution_count": 42,
     "metadata": {},
     "output_type": "execute_result"
    }
   ],
   "source": [
    "model.score(x_test,y_test)"
   ]
  },
  {
   "cell_type": "code",
   "execution_count": 44,
   "id": "53c00a38-e628-4549-8644-7ad2d75871d0",
   "metadata": {},
   "outputs": [
    {
     "data": {
      "text/plain": [
       "0.9196844286376016"
      ]
     },
     "execution_count": 44,
     "metadata": {},
     "output_type": "execute_result"
    }
   ],
   "source": [
    "model.score(x_train,y_train)"
   ]
  },
  {
   "cell_type": "code",
   "execution_count": 54,
   "id": "7725b969-a19b-4a70-b107-790a70246285",
   "metadata": {},
   "outputs": [
    {
     "name": "stdout",
     "output_type": "stream",
     "text": [
      "<class 'pandas.core.frame.DataFrame'>\n",
      "RangeIndex: 53940 entries, 0 to 53939\n",
      "Data columns (total 24 columns):\n",
      " #   Column         Non-Null Count  Dtype  \n",
      "---  ------         --------------  -----  \n",
      " 0   carat          53940 non-null  float64\n",
      " 1   depth          53940 non-null  float64\n",
      " 2   table          53940 non-null  float64\n",
      " 3   price          53940 non-null  int64  \n",
      " 4   x              53940 non-null  float64\n",
      " 5   y              53940 non-null  float64\n",
      " 6   z              53940 non-null  float64\n",
      " 7   cut_Premium    53940 non-null  bool   \n",
      " 8   cut_Very Good  53940 non-null  bool   \n",
      " 9   cut_Good       53940 non-null  bool   \n",
      " 10  cut_Fair       53940 non-null  bool   \n",
      " 11  color_E        53940 non-null  bool   \n",
      " 12  color_F        53940 non-null  bool   \n",
      " 13  color_G        53940 non-null  bool   \n",
      " 14  color_H        53940 non-null  bool   \n",
      " 15  color_I        53940 non-null  bool   \n",
      " 16  color_J        53940 non-null  bool   \n",
      " 17  clarity_VVS1   53940 non-null  bool   \n",
      " 18  clarity_VVS2   53940 non-null  bool   \n",
      " 19  clarity_VS1    53940 non-null  bool   \n",
      " 20  clarity_VS2    53940 non-null  bool   \n",
      " 21  clarity_SI1    53940 non-null  bool   \n",
      " 22  clarity_SI2    53940 non-null  bool   \n",
      " 23  clarity_I1     53940 non-null  bool   \n",
      "dtypes: bool(17), float64(6), int64(1)\n",
      "memory usage: 3.8 MB\n"
     ]
    }
   ],
   "source": [
    "df.info()"
   ]
  },
  {
   "cell_type": "code",
   "execution_count": null,
   "id": "f1a00100-b0e6-43f1-a3df-39f13bc94d12",
   "metadata": {},
   "outputs": [],
   "source": []
  }
 ],
 "metadata": {
  "kernelspec": {
   "display_name": "Python [conda env:base] *",
   "language": "python",
   "name": "conda-base-py"
  },
  "language_info": {
   "codemirror_mode": {
    "name": "ipython",
    "version": 3
   },
   "file_extension": ".py",
   "mimetype": "text/x-python",
   "name": "python",
   "nbconvert_exporter": "python",
   "pygments_lexer": "ipython3",
   "version": "3.12.7"
  }
 },
 "nbformat": 4,
 "nbformat_minor": 5
}
