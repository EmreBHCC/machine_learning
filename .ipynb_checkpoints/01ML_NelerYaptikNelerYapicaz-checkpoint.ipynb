{
 "cells": [
  {
   "cell_type": "code",
   "execution_count": 1,
   "id": "8f477552-f6ad-438d-b4b1-cf3a45165a87",
   "metadata": {},
   "outputs": [],
   "source": [
    "#regresyon / siniflandirma"
   ]
  },
  {
   "cell_type": "code",
   "execution_count": 3,
   "id": "b5512ea8-9ccb-450f-b2c4-f7f9cbb65d68",
   "metadata": {},
   "outputs": [],
   "source": [
    "# y=deltax+e(hata)"
   ]
  },
  {
   "cell_type": "code",
   "execution_count": 5,
   "id": "7bf33fac-d82c-4e4e-adb7-8f19f6693464",
   "metadata": {},
   "outputs": [],
   "source": [
    "#y bulmak istenen deger ve bagimsiz degisken"
   ]
  },
  {
   "cell_type": "code",
   "execution_count": 7,
   "id": "c8fed3b2-488a-4843-96a8-87e03066e727",
   "metadata": {},
   "outputs": [],
   "source": [
    "#featurelar x"
   ]
  },
  {
   "cell_type": "code",
   "execution_count": 9,
   "id": "feb3f070-c711-4440-a85b-f318f43096ea",
   "metadata": {},
   "outputs": [],
   "source": [
    "#m bunun etkileme orani"
   ]
  },
  {
   "cell_type": "code",
   "execution_count": 11,
   "id": "fd701bf0-348c-4355-83a9-e608e0a27211",
   "metadata": {},
   "outputs": [],
   "source": [
    "#e ise hata"
   ]
  },
  {
   "cell_type": "code",
   "execution_count": 13,
   "id": "f2b398f9-fa6e-41fe-a99d-8a558f616819",
   "metadata": {},
   "outputs": [],
   "source": [
    "#birden fazla x le tahmin yapma"
   ]
  },
  {
   "cell_type": "code",
   "execution_count": 15,
   "id": "11982f5e-5042-4ee6-b4a2-c169d1f189d1",
   "metadata": {},
   "outputs": [],
   "source": [
    "#multilineer regresyon"
   ]
  },
  {
   "cell_type": "code",
   "execution_count": null,
   "id": "3fbcd81b-e0e1-484b-a0fe-7e7b905844b1",
   "metadata": {},
   "outputs": [],
   "source": []
  }
 ],
 "metadata": {
  "kernelspec": {
   "display_name": "Python [conda env:base] *",
   "language": "python",
   "name": "conda-base-py"
  },
  "language_info": {
   "codemirror_mode": {
    "name": "ipython",
    "version": 3
   },
   "file_extension": ".py",
   "mimetype": "text/x-python",
   "name": "python",
   "nbconvert_exporter": "python",
   "pygments_lexer": "ipython3",
   "version": "3.12.7"
  }
 },
 "nbformat": 4,
 "nbformat_minor": 5
}
